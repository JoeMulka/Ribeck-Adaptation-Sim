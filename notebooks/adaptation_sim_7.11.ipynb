{
 "metadata": {
  "name": "",
  "signature": "sha256:c3ae0bf40a1f09170d8c81d24ddd5f22bdb95819c89ba73a9a16838e118355af"
 },
 "nbformat": 3,
 "nbformat_minor": 0,
 "worksheets": [
  {
   "cells": [
    {
     "cell_type": "code",
     "collapsed": false,
     "input": [
      "import sys\n",
      "import time\n",
      "import numpy as np, scipy.special, random, bisect, time\n",
      "import cProfile, pstats, StringIO\n",
      "from itertools import izip\n",
      "from __future__ import print_function\n",
      "from matplotlib import pyplot\n",
      "from IPython.display import clear_output\n",
      "import csv\n",
      "import os\n",
      "import os.path\n",
      "\n",
      "_exp = np.random.exponential\n",
      "_bin = np.random.binomial\n",
      "_poisson = np.random.poisson\n",
      "_gamma = scipy.special.gammainc\n",
      "_polyfit = numpy.polyfit\n",
      "_poly1d = numpy.poly1d\n",
      "_std=numpy.std"
     ],
     "language": "python",
     "metadata": {},
     "outputs": [],
     "prompt_number": 1
    },
    {
     "cell_type": "code",
     "collapsed": false,
     "input": [
      "def tidyup_genotypes(genotype_frequencies, genotype_fitnesses, genotype_mutations,mutation_tracker):\n",
      "    #zipping the lists together is part of the python \"list comprehension\" process, which builds a new list from\n",
      "    #elements of the zipped lists based on the criteria after \"if\".  This proved to be the fastest way to remove \n",
      "    #extinct genotypes from our tracking list.\n",
      "    \n",
      "    tidy_fitness_list = [x for x,y in izip(genotype_fitnesses, genotype_frequencies) if y > 0]\n",
      "    tidy_mutation_list = [x for x,y in izip(genotype_mutations, genotype_frequencies) if y > 0]\n",
      "    tidy_mutation_tracker = [x for x,y in izip(mutation_tracker, genotype_frequencies) if y > 0]\n",
      "    tidy_freq_list = [x for x in genotype_frequencies if x != 0]\n",
      "    \n",
      "    return tidy_freq_list, tidy_fitness_list, tidy_mutation_list, tidy_mutation_tracker\n",
      "\n",
      "\n",
      "def reproduction(genotype_frequencies, genotype_fitnesses, dot_product):\n",
      "\n",
      "    \n",
      "    \n",
      "    running_dot_prod = 0\n",
      "    running_pop_size = 0\n",
      "    \n",
      "    if is_binary == True:\n",
      "        norm = pop_size/(2*dot_product) #binary fission\n",
      "    else:\n",
      "        norm = 1/dot_product  #<-- part of poisson reproduction\n",
      "    for i in xrange(len(genotype_frequencies)):\n",
      "        if is_binary == True:\n",
      "            num_new_individuals = _bin(2*genotype_frequencies[i], genotype_fitnesses[i]*norm) #binary fission\n",
      "        else:      \n",
      "            num_new_individuals = _bin(pop_size, genotype_frequencies[i]*genotype_fitnesses[i]*norm) #<-- poisson reproduction\n",
      "        genotype_frequencies[i] = num_new_individuals\n",
      "        running_pop_size += num_new_individuals #sums the new population size\n",
      "        running_dot_prod += num_new_individuals*genotype_fitnesses[i] #iteratively calculates the dot product of the \n",
      "        #frequency list and and the fitness list for use in later calculations.  Doing this process in this loop saved some time\n",
      "        #as we had to loop through the entire genotype list here anyway to update it each generation\n",
      "    \n",
      "    return genotype_frequencies, running_pop_size, running_dot_prod\n",
      "    \n",
      "    \n",
      "def mutation(genotype_frequencies, genotype_fitnesses, genotype_mutations, new_pop_size,master_mut_list, master_mut_list_background,mutation_tracker,mean_fitness):\n",
      "    \n",
      "    total_mutants = _bin(new_pop_size, (1 - exp(-mut_rate)))  #Calculates the total number of mutants expected this generation\n",
      "    \n",
      "    multiplicity=[] #an array whose indices correspond to number of mutations minus one, and whose entries are the number of \n",
      "    #mutated individuals with that number of mutations this generation\n",
      "    r = total_mutants\n",
      "    k=2\n",
      "    while r > 0:\n",
      "        #r is the number of individuals with at least k mutations\n",
      "        #rate inside binomial is the prob of an individual having at least k mutations given that it has at least k-1 mutations\n",
      "        new_r = _bin(r, _gamma(k, mut_rate)/_gamma(k-1, mut_rate))\n",
      "        multiplicity.append(r - new_r)\n",
      "        r = new_r\n",
      "        k+=1\n",
      "   \n",
      "    cum_sum=0\n",
      "    thresholds=[] #This list is used in conjunction with the mutated_individuals list to pick the genotypes which will mutate.\n",
      "    #It sums the amount of individuals in each genotype, effectively finding which ID numbers are in which genotype\n",
      "    for i in xrange(len(genotype_frequencies)):\n",
      "        if total_mutants > 0:\n",
      "            cum_sum += genotype_frequencies[i]\n",
      "            thresholds.append(cum_sum)   \n",
      "    \n",
      "    mutated_individuals = random.sample(xrange(1,new_pop_size+1), total_mutants) #Think of every individual in the population having\n",
      "    #a unique ID number.  This function creates a list of randomly selected ID numbers, the ID of each individual that will mutate\n",
      "    #this generation.  While seemingly unorthodox, this was the fastest way to randomly pick individuals (without replacement) \n",
      "    #to mutate.  This whole process is basically a weighted random sampling of the genotype_frequencies list.\n",
      "    \n",
      "    multiplicity_counter=1 #how many mutations this particular genotype acquired this gen\n",
      "    this_mult_mutated=0 #how many indivduals have been mutated at this multiplicity count, for example if we have already dealt\n",
      "    #with 4 double mutants, this_mult_mutated will equal 4\n",
      "    added_fitness = 0 #for use in calculating new mean fitness\n",
      "    for j in xrange(total_mutants):\n",
      "        while this_mult_mutated == multiplicity[multiplicity_counter-1]:\n",
      "            multiplicity_counter+=1\n",
      "            this_mult_mutated=0\n",
      "            #This loop checks if the required number of individuals at this multiplicity count have been dealt with, and increments\n",
      "            #the multiplicity counter to the next multiplicity level with a nonzero number of mutants if the required number of\n",
      "            #mutants has been met for the current multiplicity level.  \n",
      "        this_geno = bisect.bisect_left(thresholds,mutated_individuals[j]) #picks the genotype of a random individual from the \n",
      "        #entire population.  \n",
      "        genotype_frequencies[this_geno] -=1 #subtracts the individual that mutated from its original genotype, as it now has \n",
      "        #a new genotype\n",
      "        genotype_mutations.append(multiplicity_counter + genotype_mutations[this_geno]) #records how many mutations the new\n",
      "        #genotype has, which is equal to the amount its previous genotype had plus the amount of mutations it accrued this generation\n",
      "        mutant_fitness = genotype_fitnesses[this_geno] #the fitness of the new mutant BEFORE the mutation benefit is applied\n",
      "        \n",
      "        for k in xrange(1, multiplicity_counter+1):\n",
      "            s = _exp(1.0/(alpha*(mutant_fitness**g))) #the percent magnitude of the fitness gain from the mutation\n",
      "            if mutation_tracker_toggle == True:\n",
      "                master_mut_list.append(s) #adds the effect size of this mutation to the master mutation tracker\n",
      "                master_mut_list_background.append((genotype_fitnesses[this_geno]/mean_fitness)-1+s)\n",
      "            added_fitness += mutant_fitness*s #records the magnitude of the fitness\n",
      "            mutant_fitness *= (1 + s) #applies the beneficial effect to the mutant\n",
      "            #This loop applies the mutations and loops through the multiplicity number, so a double mutant will have two \n",
      "            #mutations applied, for example\n",
      "            \n",
      "        genotype_fitnesses.append(mutant_fitness) #sets the updated fitness of the new mutant\n",
      "        if mutation_tracker_toggle == True:\n",
      "            mutation_tracker.append(mutation_tracker[this_geno][:] \\\n",
      "            + [x + len(master_mut_list)-multiplicity_counter for x in xrange(multiplicity_counter)]) #Adds the ID numbers of the\n",
      "        #mutations that this genotype now has to the mutation tracker\n",
      "        \n",
      "        this_mult_mutated+=1\n",
      "    genotype_frequencies.extend((1,)*total_mutants) #Adds the new genotypes to the genotype list.  All the new mutants have\n",
      "    #a frequency of 1, thus this just adds entries of 1 to the end of the list\n",
      "    \n",
      "    return genotype_frequencies, genotype_fitnesses, genotype_mutations, added_fitness,master_mut_list,master_mut_list_background,mutation_tracker\n",
      "\n",
      "\n",
      "def adaptation(current_run):\n",
      "    \n",
      "    mean_fitness=1\n",
      "    w = [1.0]      #genotype_fitnesses\n",
      "    p = [pop_size] #genotype_frequencies\n",
      "    m = [0]        #genotype_mutations\n",
      "    fitnesses = [1.0]\n",
      "    fixations = [0]\n",
      "    pop_sizes = [pop_size] #A list of the population sizes after each generation\n",
      "    dot_product = pop_size #The dot product of the frequency and fitness lists, the \"total fitness\" used in calculating the mean\n",
      "    new_pop_size = pop_size\n",
      "    master_mut_list_background=[] # a parallel list to master mut list that holds the mutation effect\n",
      "                            #sizes including the background\n",
      "    master_mut_list=[] #effect sizes of each mutation, index of list is ID of mutation\n",
      "    mutation_tracker=[[]]#list of lists, index is the genotype associated with it, list at that\n",
      "                    #index is the ID's of the mutations that it has\n",
      "            #does not yet work with multiple runs\n",
      "    \n",
      "    for i in xrange(num_gens):\n",
      "        \n",
      "        p, new_pop_size, dot_product = reproduction(p, w, dot_product) #REPRODUCTION\n",
      "        p, w, m, added_fitness,master_mut_list,master_mut_list_background,mutation_tracker = mutation(p, w, m, new_pop_size,master_mut_list,master_mut_list_background,mutation_tracker,mean_fitness)       #MUTATION\n",
      "        p, w, m,mutation_tracker = tidyup_genotypes(p, w, m,mutation_tracker)                            #CLEANUP\n",
      "    \n",
      "        dot_product += added_fitness #since the dot product was initially calculated in the Reproduction function, this adds in\n",
      "        #the part of the dot product from the extra fitness of the new new mutants.  This is just the additional fitness from the\n",
      "        #mutations, not the total fitness of the mutants, which avoids double counting them in both Reproduction and Mutation\n",
      "        mean_fitness = dot_product/new_pop_size\n",
      "    \n",
      "        fitnesses.append(mean_fitness)\n",
      "        fixations.append(min(m)) \n",
      "        pop_sizes.append(new_pop_size)\n",
      "    \n",
      "        formatted_output= \"current run: \" + `current_run` + \"  generation: \" + `i+1` \\\n",
      "        + \"  mean fitness: \" + '%.4f'% mean_fitness + \"  fixations: \" + `fixations[-1]`\n",
      "        \n",
      "        print (formatted_output,end = '\\r')\n",
      "   \n",
      "    if i+1==num_gens and current_run==num_runs:\n",
      "        print (formatted_output) #ensures the last bit of output doesn't get accidentally cleared\n",
      "    \n",
      "    \n",
      "    return fitnesses, fixations, pop_sizes,master_mut_list,master_mut_list_background,mutation_tracker"
     ],
     "language": "python",
     "metadata": {},
     "outputs": [],
     "prompt_number": 2
    },
    {
     "cell_type": "code",
     "collapsed": false,
     "input": [
      "pr = cProfile.Profile()\n",
      "pr.enable() #Python time profiler, used to determine which functions are taking the most machine time"
     ],
     "language": "python",
     "metadata": {},
     "outputs": [],
     "prompt_number": 3
    },
    {
     "cell_type": "code",
     "collapsed": false,
     "input": [
      "#MAIN\n",
      "\n",
      "#Variable Initialization\n",
      "pop_size = 3.3E7\n",
      "mut_rate = 1.68E-5\n",
      "alpha = 85\n",
      "g=6.02 #epistasis parameter\n",
      "num_gens = 10000\n",
      "num_runs =1\n",
      "mutation_tracker_toggle = True #turns the mutation tracker on or off\n",
      "is_binary = True #Which model of reproduction is being used\n",
      "\n",
      "\n",
      "\n",
      "#RUN ADAPTATION MULTIPLE TIMES\n",
      "fitness_trajectories = [] #A list of lists.  Index is run number, values are fitness-over-generation lists\n",
      "fixation_trajectories = [] #similar to above\n",
      "pop_size_trajectories = [] #similar to above\n",
      "fixed_muts_trajectory = [] #a long list of all the mutation sizes that have fixed\n",
      "fixed_mut_back_trajectory = [] #a long list of all the mutation sizes that have fixed, taking the background into effect\n",
      "\n",
      "test_fitnesses=[] #testing mutation tracker algorithm\n",
      "\n",
      "for i in xrange(num_runs):     #This loop runs the adaptation sim and records the fitness, fixation, and population size data\n",
      "    new_fitness_traj, new_fixation_traj, new_pop_size_traj,new_master_mut,new_master_mut_background,new_mut_tracker = adaptation(i+1)\n",
      "    fitness_trajectories.append(new_fitness_traj)\n",
      "    fixation_trajectories.append(new_fixation_traj)\n",
      "    pop_size_trajectories.append(new_pop_size_traj)\n",
      "    if (len(new_mut_tracker)!=0): #calculates more accurately the total number of fixations at the end of each run\n",
      "        fixed_muts = set(new_mut_tracker[0]) #intersection_update is a function of the set class, so fixed muts needs to be a set\n",
      "        for i in new_mut_tracker[1:]: #The intersection of the first and second mutation list in new_mut_tracker is taken, then \n",
      "            fixed_muts.intersection_update(i) #fixed muts is updated to this intersection.  This intersection is then intersected\n",
      "        fixed_muts = list(fixed_muts) #with the next list.  When all lists have been intersected, the resulting intersection of all lists is turned back into a list type element\n",
      "        fixed_mut_sizes = [new_master_mut[x] for x in fixed_muts] #for histograms regarding what kinds of mutations end up fixing\n",
      "        fixed_mut_back_sizes = [new_master_mut_background[x] for x in fixed_muts]\n",
      "        fixed_muts_trajectory=fixed_muts_trajectory+fixed_mut_sizes #concatenates the lists of fixed mutation effect sizes for each run\n",
      "        fixed_mut_back_trajectory=fixed_mut_back_trajectory+fixed_mut_back_sizes #concatenates the lists of fixed mutation effect sizes plus background for each run\n",
      "    fixed_muts=[]\n",
      "    fixed_mut_sizes=[]\n",
      "    fixed_mut_back_sizes=[]\n",
      "\n",
      "\n",
      "\n",
      "    \n",
      "fitness_trajectories = transpose(fitness_trajectories)\n",
      "fixation_trajectories = transpose(fixation_trajectories)\n",
      "pop_size_trajectories = transpose(pop_size_trajectories)\n",
      "#puts generation number in [i]axis and run number within the [i] axis of the inner lists\n",
      "\n",
      "#CALCULATE AVERAGE TRAJECTORIES\n",
      "mean_fitness_trajectory = [] #indices are generation number, values are mean fitness of all runs\n",
      "mean_fixation_trajectory = [] #similar to above\n",
      "mean_pop_size_trajectory = [] #similar to above\n",
      "\n",
      "for i in xrange(num_gens+1):\n",
      "    mean_fitness_trajectory.append(mean(fitness_trajectories[i]))\n",
      "    mean_fixation_trajectory.append(mean(fixation_trajectories[i]))\n",
      "    mean_pop_size_trajectory.append(mean(pop_size_trajectories[i]))\n",
      "    \n",
      "    print(\"averaging: \"+`i`+\"/\"+`num_gens`,end='\\r') #Shows the user how much time is spent averaging/which generation is being\n",
      "    #averaged\n",
      "    \n",
      "clear_output()\n",
      "print(\"averaging: \"+`num_gens`+\"/\"+`num_gens`+  \"  Averaging Complete at mut_rate: \"+ `mut_rate`) #displays when averaging is done"
     ],
     "language": "python",
     "metadata": {},
     "outputs": [
      {
       "output_type": "stream",
       "stream": "stdout",
       "text": [
        "averaging: 10000/10000  Averaging Complete at mut_rate: 1.68e-05\n"
       ]
      }
     ],
     "prompt_number": 4
    },
    {
     "cell_type": "code",
     "collapsed": false,
     "input": [
      "new_mut_tracker"
     ],
     "language": "python",
     "metadata": {},
     "outputs": [
      {
       "ename": "NameError",
       "evalue": "name 'new_mut_tracker' is not defined",
       "output_type": "pyerr",
       "traceback": [
        "\u001b[1;31m---------------------------------------------------------------------------\u001b[0m\n\u001b[1;31mNameError\u001b[0m                                 Traceback (most recent call last)",
        "\u001b[1;32m<ipython-input-1-7448babd32a7>\u001b[0m in \u001b[0;36m<module>\u001b[1;34m()\u001b[0m\n\u001b[1;32m----> 1\u001b[1;33m \u001b[0mnew_mut_tracker\u001b[0m\u001b[1;33m\u001b[0m\u001b[0m\n\u001b[0m",
        "\u001b[1;31mNameError\u001b[0m: name 'new_mut_tracker' is not defined"
       ]
      }
     ],
     "prompt_number": 1
    },
    {
     "cell_type": "code",
     "collapsed": false,
     "input": [
      "def intersect_many_lists(all_lists):    \n",
      "    last_mutation_number=(len(new_master_mut)) #So that python doesn't waste time taking the length every time\n",
      "    fixed_mutations=all_lists[0][:] #starts as all mutations in the first list, mutations are removed as they are found to be not fixations\n",
      "    stop=False\n",
      "    breaker=False\n",
      "    removed=False\n",
      "    for mutation_being_checked in fixed_mutations: #loops over the mutations in the first list\n",
      "        i=0\n",
      "        stop=False\n",
      "        removed=False\n",
      "        for x in range(1,len(all_lists)):#loops over every genotype in all_lists         \n",
      "            if (breaker==True):\n",
      "                break\n",
      "            i=0\n",
      "            genotype_being_checked =all_lists[x] \n",
      "            stop=False\n",
      "            \n",
      "            while ((stop==False)&(i<len(genotype_being_checked))): #loops until the mutation ID is found or not\n",
      "                if genotype_being_checked[i]<mutation_being_checked: #if mutation number is less than what we're looking for\n",
      "                    i=i+1 #then keep looking in this genotype\n",
      "                elif genotype_being_checked[i]== mutation_being_checked: #if the mutation is found in this genotype, then move\n",
      "                    stop=True #on to the next one\n",
      "                elif genotype_being_checked[i]>mutation_being_checked: #if mutation is greater than the one we're looking for\n",
      "                    if (removed==False):                      \n",
      "                        fixed_mutations.remove(mutation_being_checked) #then it will not be in this genotype, and it will not be a \n",
      "                    removed=True\n",
      "                    x=len(all_lists)+1 #fixation, so move on to the next mutation in the first element\n",
      "                    stop=True\n",
      "                    breaker=True\n",
      "        \n",
      "    return fixed_mutations        "
     ],
     "language": "python",
     "metadata": {},
     "outputs": [],
     "prompt_number": 187
    },
    {
     "cell_type": "code",
     "collapsed": false,
     "input": [
      "def old_intersect_method(all_lists):\n",
      "    #print(all_lists)\n",
      "    if (len(all_lists)!=0): \n",
      "        f_muts = set(all_lists[0]) \n",
      "        for i in all_lists[1:]: \n",
      "            f_muts.intersection_update(i)\n",
      "        output = list(f_muts)\n",
      "        output.sort()\n",
      "    return (output)"
     ],
     "language": "python",
     "metadata": {},
     "outputs": [],
     "prompt_number": 178
    },
    {
     "cell_type": "code",
     "collapsed": false,
     "input": [
      "pr = cProfile.Profile()\n",
      "pr.enable() #Python time profiler, used to determine which functions are taking the most machine time"
     ],
     "language": "python",
     "metadata": {},
     "outputs": [],
     "prompt_number": 193
    },
    {
     "cell_type": "code",
     "collapsed": false,
     "input": [
      "old_method_fixed_muts=old_intersect_method(new_mut_tracker)"
     ],
     "language": "python",
     "metadata": {},
     "outputs": [],
     "prompt_number": 194
    },
    {
     "cell_type": "code",
     "collapsed": false,
     "input": [
      "new_method_fixed_muts=intersect_many_lists(new_mut_tracker)"
     ],
     "language": "python",
     "metadata": {},
     "outputs": [],
     "prompt_number": 195
    },
    {
     "cell_type": "code",
     "collapsed": false,
     "input": [
      "pr.disable()\n",
      "s = StringIO.StringIO()\n",
      "sortby = 'cumulative'\n",
      "ps = pstats.Stats(pr, stream=s).sort_stats(sortby)\n",
      "ps.strip_dirs()\n",
      "ps.sort_stats(\"time\")\n",
      "ps.print_stats()\n",
      "print (s.getvalue())"
     ],
     "language": "python",
     "metadata": {},
     "outputs": [
      {
       "ename": "NameError",
       "evalue": "name 'pr' is not defined",
       "output_type": "pyerr",
       "traceback": [
        "\u001b[1;31m---------------------------------------------------------------------------\u001b[0m\n\u001b[1;31mNameError\u001b[0m                                 Traceback (most recent call last)",
        "\u001b[1;32m<ipython-input-2-41e47c07c8ad>\u001b[0m in \u001b[0;36m<module>\u001b[1;34m()\u001b[0m\n\u001b[1;32m----> 1\u001b[1;33m \u001b[0mpr\u001b[0m\u001b[1;33m.\u001b[0m\u001b[0mdisable\u001b[0m\u001b[1;33m(\u001b[0m\u001b[1;33m)\u001b[0m\u001b[1;33m\u001b[0m\u001b[0m\n\u001b[0m\u001b[0;32m      2\u001b[0m \u001b[0ms\u001b[0m \u001b[1;33m=\u001b[0m \u001b[0mStringIO\u001b[0m\u001b[1;33m.\u001b[0m\u001b[0mStringIO\u001b[0m\u001b[1;33m(\u001b[0m\u001b[1;33m)\u001b[0m\u001b[1;33m\u001b[0m\u001b[0m\n\u001b[0;32m      3\u001b[0m \u001b[0msortby\u001b[0m \u001b[1;33m=\u001b[0m \u001b[1;34m'cumulative'\u001b[0m\u001b[1;33m\u001b[0m\u001b[0m\n\u001b[0;32m      4\u001b[0m \u001b[0mps\u001b[0m \u001b[1;33m=\u001b[0m \u001b[0mpstats\u001b[0m\u001b[1;33m.\u001b[0m\u001b[0mStats\u001b[0m\u001b[1;33m(\u001b[0m\u001b[0mpr\u001b[0m\u001b[1;33m,\u001b[0m \u001b[0mstream\u001b[0m\u001b[1;33m=\u001b[0m\u001b[0ms\u001b[0m\u001b[1;33m)\u001b[0m\u001b[1;33m.\u001b[0m\u001b[0msort_stats\u001b[0m\u001b[1;33m(\u001b[0m\u001b[0msortby\u001b[0m\u001b[1;33m)\u001b[0m\u001b[1;33m\u001b[0m\u001b[0m\n\u001b[0;32m      5\u001b[0m \u001b[0mps\u001b[0m\u001b[1;33m.\u001b[0m\u001b[0mstrip_dirs\u001b[0m\u001b[1;33m(\u001b[0m\u001b[1;33m)\u001b[0m\u001b[1;33m\u001b[0m\u001b[0m\n",
        "\u001b[1;31mNameError\u001b[0m: name 'pr' is not defined"
       ]
      }
     ],
     "prompt_number": 2
    },
    {
     "cell_type": "code",
     "collapsed": false,
     "input": [
      "new_method_fixed_muts"
     ],
     "language": "python",
     "metadata": {},
     "outputs": [
      {
       "metadata": {},
       "output_type": "pyout",
       "prompt_number": 184,
       "text": [
        "[12228,\n",
        " 126321,\n",
        " 228651,\n",
        " 431413,\n",
        " 715776,\n",
        " 1110259,\n",
        " 1374581,\n",
        " 1682992,\n",
        " 2062033,\n",
        " 2326122,\n",
        " 2600536,\n",
        " 3045545,\n",
        " 3496321]"
       ]
      }
     ],
     "prompt_number": 184
    },
    {
     "cell_type": "code",
     "collapsed": false,
     "input": [
      "print(old_method_fixed_muts)"
     ],
     "language": "python",
     "metadata": {},
     "outputs": [
      {
       "output_type": "stream",
       "stream": "stdout",
       "text": [
        "[2349, 15812, 34130]\n"
       ]
      }
     ],
     "prompt_number": 174
    },
    {
     "cell_type": "code",
     "collapsed": false,
     "input": [
      "new_mut_tracker"
     ],
     "language": "python",
     "metadata": {},
     "outputs": [
      {
       "ename": "NameError",
       "evalue": "name 'new_mut_tracker' is not defined",
       "output_type": "pyerr",
       "traceback": [
        "\u001b[1;31m---------------------------------------------------------------------------\u001b[0m\n\u001b[1;31mNameError\u001b[0m                                 Traceback (most recent call last)",
        "\u001b[1;32m<ipython-input-3-7448babd32a7>\u001b[0m in \u001b[0;36m<module>\u001b[1;34m()\u001b[0m\n\u001b[1;32m----> 1\u001b[1;33m \u001b[0mnew_mut_tracker\u001b[0m\u001b[1;33m\u001b[0m\u001b[0m\n\u001b[0m",
        "\u001b[1;31mNameError\u001b[0m: name 'new_mut_tracker' is not defined"
       ]
      }
     ],
     "prompt_number": 3
    },
    {
     "cell_type": "code",
     "collapsed": false,
     "input": [
      "#plots histograms to see what types of mutations will fix\n",
      "fixed_muts = set(new_mut_tracker[0])\n",
      "for i in new_mut_tracker[1:]:\n",
      "    fixed_muts.intersection_update(i)\n",
      "fixed_muts = list(fixed_muts)\n",
      "\n",
      "fixed_mut_sizes = [new_master_mut[x] for x in fixed_muts]\n",
      "fixed_mut_back_sizes = [new_master_mut_background[x] for x in fixed_muts]\n",
      "\n",
      "plt.hist(fixed_mut_sizes,20);\n",
      "\n",
      "\n",
      "\n",
      "calculation = 2*adaptation_rate*log(pop_size/2)\n",
      "\n",
      "plt.hist(fixed_mut_back_sizes,20); #currently plots them on top of each other, change later\n"
     ],
     "language": "python",
     "metadata": {},
     "outputs": [
      {
       "metadata": {},
       "output_type": "display_data",
       "png": "[encoded data removed]",
       "text": [
        "<matplotlib.figure.Figure at 0x115dce48>"
       ]
      }
     ],
     "prompt_number": 58
    },
    {
     "cell_type": "code",
     "collapsed": false,
     "input": [
      "#compute lines of best fit, standard deviations, and lag\n",
      "lag = next((i for i, v in enumerate(mean_fixation_trajectory) if v >0.5), 0)#lag position based on\n",
      "                                        #where half of runs have fixed one mutation\n",
      "fit_degree = 1 #degree of polynomial of best fit\n",
      "\n",
      "x_vals = range (len(mean_fitness_trajectory))\n",
      "log_fitness = numpy.log(mean_fitness_trajectory)\n",
      "\n",
      "\n",
      "log_fitness_coeffs=_polyfit(x_vals[lag:(len(x_vals)-1)],log_fitness[lag:(len(log_fitness)-1)],fit_degree)\n",
      "fixation_coeffs=_polyfit(x_vals,mean_fixation_trajectory,fit_degree)\n",
      "\n",
      "log_fitness_polynomial = _poly1d(log_fitness_coeffs)\n",
      "fixation_polynomial = poly1d(fixation_coeffs)\n",
      "\n",
      "log_fitness_y_vals=log_fitness_polynomial(x_vals)\n",
      "fixation_y_vals = fixation_polynomial(x_vals)\n",
      "\n",
      "slope_log_fit=log_fitness_coeffs[0]\n",
      "slope_fixation=fixation_coeffs[0]\n",
      "\n",
      "fitness_stand_devs=zeros(num_gens)\n",
      "fixation_stand_devs=zeros(num_gens)\n",
      "for i in xrange(num_gens):\n",
      "    fitness_stand_devs[i]=_std(fitness_trajectories[i])\n",
      "    fixation_stand_devs[i]=_std(fixation_trajectories[i])\n",
      "    \n",
      "\n",
      "print (lag)\n",
      "\n",
      "    "
     ],
     "language": "python",
     "metadata": {},
     "outputs": [
      {
       "output_type": "stream",
       "stream": "stdout",
       "text": [
        "664\n"
       ]
      }
     ],
     "prompt_number": 31
    },
    {
     "cell_type": "code",
     "collapsed": false,
     "input": [
      "plotmin = lag #can be adjusted to show lag phase or to ignore lag phase\n",
      "plotmax = num_gens #can be adjusted along with plot min to zoom in\n",
      "\n",
      "plot(fitness_trajectories[0:plotmax],'k'), plot(mean_fitness_trajectory[0:plotmax], 'b', linewidth=4)\n",
      "xticks(size=14), yticks(size=14), xlabel(\"generations\", size=16), ylabel(\"fitness\", size=16)\n",
      "title(\"Raw Fitness\")\n",
      "xlim(plotmin,plotmax)\n",
      "show();\n",
      "\n",
      "plot(log(fitness_trajectories[0:plotmax]),'k'), plot(log(mean_fitness_trajectory[0:plotmax]), 'b', linewidth=3)\n",
      "plot(log_fitness_y_vals[0:plotmax],'r--',linewidth=2)\n",
      "xticks(size=14), yticks(size=14), xlabel(\"generations\", size=16), ylabel(\"log(fitness)\", size=16)\n",
      "title(\"Log Fitness\")\n",
      "xlim(plotmin,plotmax)\n",
      "show();\n",
      "adaptation_rate=slope_log_fit\n",
      "print (\"adaptation rate: \" + `adaptation_rate`)\n",
      "\n",
      "plot(fixation_trajectories[0:plotmax],'k'), plot(mean_fixation_trajectory[0:plotmax], 'b', linewidth=3)\n",
      "plot(fixation_y_vals[0:plotmax],'r--',linewidth=2)\n",
      "xticks(size=14), yticks(size=14), xlabel(\"generations\", size=16), ylabel(\"fixations\", size=16)\n",
      "title(\"Fixations\")\n",
      "xlim(plotmin,plotmax)\n",
      "show();\n",
      "fixation_rate=slope_fixation\n",
      "print (\"fixation rate: \" + `fixation_rate`)\n",
      "\n",
      "plot(pop_size_trajectories[0:plotmax],'k'), plot(mean_pop_size_trajectory[0:plotmax],'b', linewidth=4)\n",
      "xticks(size=14), yticks(size=14), xlabel(\"generations\", size=16), ylabel(\"population size\", size=16)\n",
      "title(\"Population Size\")\n",
      "xlim(plotmin,plotmax)\n",
      "show();\n",
      "\n",
      "plot(fitness_stand_devs[0:plotmax],'b', linewidth=4)\n",
      "xticks(size=14), yticks(size=14),xlabel(\"generations\",size=16),ylabel(\"standard deviation\",size=16)\n",
      "title(\"Fitness standard deviations\")\n",
      "xlim(plotmin,plotmax)\n",
      "show();\n",
      "\n",
      "plot([(x/y)**2 for x,y in izip(fitness_stand_devs[0:plotmax],mean_fitness_trajectory[0:plotmax])],'b', linewidth=4)\n",
      "xticks(size=14), yticks(size=14),xlabel(\"generations\",size=16),ylabel(\"variance (normalized)\",size=16)\n",
      "title(\"Fitness variance normalized\")\n",
      "xlim(plotmin,plotmax)\n",
      "show();\n",
      "\n",
      "plot(fixation_stand_devs[0:plotmax],'b', linewidth=4)\n",
      "xticks(size=14), yticks(size=14),xlabel(\"generations\",size=16),ylabel(\"standard deviation\",size=16)\n",
      "title(\"Fixations standard deviations\")\n",
      "xlim(plotmin,plotmax)\n",
      "show();"
     ],
     "language": "python",
     "metadata": {},
     "outputs": [
      {
       "ename": "NameError",
       "evalue": "name 'lag' is not defined",
       "output_type": "pyerr",
       "traceback": [
        "\u001b[1;31m---------------------------------------------------------------------------\u001b[0m\n\u001b[1;31mNameError\u001b[0m                                 Traceback (most recent call last)",
        "\u001b[1;32m<ipython-input-4-e708f4443e1c>\u001b[0m in \u001b[0;36m<module>\u001b[1;34m()\u001b[0m\n\u001b[1;32m----> 1\u001b[1;33m \u001b[0mplotmin\u001b[0m \u001b[1;33m=\u001b[0m \u001b[0mlag\u001b[0m \u001b[1;31m#can be adjusted to show lag phase or to ignore lag phase\u001b[0m\u001b[1;33m\u001b[0m\u001b[0m\n\u001b[0m\u001b[0;32m      2\u001b[0m \u001b[0mplotmax\u001b[0m \u001b[1;33m=\u001b[0m \u001b[0mnum_gens\u001b[0m \u001b[1;31m#can be adjusted along with plot min to zoom in\u001b[0m\u001b[1;33m\u001b[0m\u001b[0m\n\u001b[0;32m      3\u001b[0m \u001b[1;33m\u001b[0m\u001b[0m\n\u001b[0;32m      4\u001b[0m \u001b[0mplot\u001b[0m\u001b[1;33m(\u001b[0m\u001b[0mfitness_trajectories\u001b[0m\u001b[1;33m[\u001b[0m\u001b[1;36m0\u001b[0m\u001b[1;33m:\u001b[0m\u001b[0mplotmax\u001b[0m\u001b[1;33m]\u001b[0m\u001b[1;33m,\u001b[0m\u001b[1;34m'k'\u001b[0m\u001b[1;33m)\u001b[0m\u001b[1;33m,\u001b[0m \u001b[0mplot\u001b[0m\u001b[1;33m(\u001b[0m\u001b[0mmean_fitness_trajectory\u001b[0m\u001b[1;33m[\u001b[0m\u001b[1;36m0\u001b[0m\u001b[1;33m:\u001b[0m\u001b[0mplotmax\u001b[0m\u001b[1;33m]\u001b[0m\u001b[1;33m,\u001b[0m \u001b[1;34m'b'\u001b[0m\u001b[1;33m,\u001b[0m \u001b[0mlinewidth\u001b[0m\u001b[1;33m=\u001b[0m\u001b[1;36m4\u001b[0m\u001b[1;33m)\u001b[0m\u001b[1;33m\u001b[0m\u001b[0m\n\u001b[0;32m      5\u001b[0m \u001b[0mxticks\u001b[0m\u001b[1;33m(\u001b[0m\u001b[0msize\u001b[0m\u001b[1;33m=\u001b[0m\u001b[1;36m14\u001b[0m\u001b[1;33m)\u001b[0m\u001b[1;33m,\u001b[0m \u001b[0myticks\u001b[0m\u001b[1;33m(\u001b[0m\u001b[0msize\u001b[0m\u001b[1;33m=\u001b[0m\u001b[1;36m14\u001b[0m\u001b[1;33m)\u001b[0m\u001b[1;33m,\u001b[0m \u001b[0mxlabel\u001b[0m\u001b[1;33m(\u001b[0m\u001b[1;34m\"generations\"\u001b[0m\u001b[1;33m,\u001b[0m \u001b[0msize\u001b[0m\u001b[1;33m=\u001b[0m\u001b[1;36m16\u001b[0m\u001b[1;33m)\u001b[0m\u001b[1;33m,\u001b[0m \u001b[0mylabel\u001b[0m\u001b[1;33m(\u001b[0m\u001b[1;34m\"fitness\"\u001b[0m\u001b[1;33m,\u001b[0m \u001b[0msize\u001b[0m\u001b[1;33m=\u001b[0m\u001b[1;36m16\u001b[0m\u001b[1;33m)\u001b[0m\u001b[1;33m\u001b[0m\u001b[0m\n",
        "\u001b[1;31mNameError\u001b[0m: name 'lag' is not defined"
       ]
      }
     ],
     "prompt_number": 4
    },
    {
     "cell_type": "code",
     "collapsed": false,
     "input": [
      "pr.disable()\n",
      "s = StringIO.StringIO()\n",
      "sortby = 'cumulative'\n",
      "ps = pstats.Stats(pr, stream=s).sort_stats(sortby)\n",
      "ps.strip_dirs()\n",
      "ps.sort_stats(\"time\")\n",
      "ps.print_stats()\n",
      "print (s.getvalue())"
     ],
     "language": "python",
     "metadata": {},
     "outputs": [
      {
       "ename": "NameError",
       "evalue": "name 'pr' is not defined",
       "output_type": "pyerr",
       "traceback": [
        "\u001b[1;31m---------------------------------------------------------------------------\u001b[0m\n\u001b[1;31mNameError\u001b[0m                                 Traceback (most recent call last)",
        "\u001b[1;32m<ipython-input-10-41e47c07c8ad>\u001b[0m in \u001b[0;36m<module>\u001b[1;34m()\u001b[0m\n\u001b[1;32m----> 1\u001b[1;33m \u001b[0mpr\u001b[0m\u001b[1;33m.\u001b[0m\u001b[0mdisable\u001b[0m\u001b[1;33m(\u001b[0m\u001b[1;33m)\u001b[0m\u001b[1;33m\u001b[0m\u001b[0m\n\u001b[0m\u001b[0;32m      2\u001b[0m \u001b[0ms\u001b[0m \u001b[1;33m=\u001b[0m \u001b[0mStringIO\u001b[0m\u001b[1;33m.\u001b[0m\u001b[0mStringIO\u001b[0m\u001b[1;33m(\u001b[0m\u001b[1;33m)\u001b[0m\u001b[1;33m\u001b[0m\u001b[0m\n\u001b[0;32m      3\u001b[0m \u001b[0msortby\u001b[0m \u001b[1;33m=\u001b[0m \u001b[1;34m'cumulative'\u001b[0m\u001b[1;33m\u001b[0m\u001b[0m\n\u001b[0;32m      4\u001b[0m \u001b[0mps\u001b[0m \u001b[1;33m=\u001b[0m \u001b[0mpstats\u001b[0m\u001b[1;33m.\u001b[0m\u001b[0mStats\u001b[0m\u001b[1;33m(\u001b[0m\u001b[0mpr\u001b[0m\u001b[1;33m,\u001b[0m \u001b[0mstream\u001b[0m\u001b[1;33m=\u001b[0m\u001b[0ms\u001b[0m\u001b[1;33m)\u001b[0m\u001b[1;33m.\u001b[0m\u001b[0msort_stats\u001b[0m\u001b[1;33m(\u001b[0m\u001b[0msortby\u001b[0m\u001b[1;33m)\u001b[0m\u001b[1;33m\u001b[0m\u001b[0m\n\u001b[0;32m      5\u001b[0m \u001b[0mps\u001b[0m\u001b[1;33m.\u001b[0m\u001b[0mstrip_dirs\u001b[0m\u001b[1;33m(\u001b[0m\u001b[1;33m)\u001b[0m\u001b[1;33m\u001b[0m\u001b[0m\n",
        "\u001b[1;31mNameError\u001b[0m: name 'pr' is not defined"
       ]
      }
     ],
     "prompt_number": 10
    },
    {
     "cell_type": "code",
     "collapsed": false,
     "input": [
      "#CSV WRITER\n",
      "import csv\n",
      "\n",
      "\n",
      "pop_exponent = int(log10(pop_size))\n",
      "pop_string = pop_size/(10**pop_exponent)\n",
      "generic_file_name=\"_\"+`pop_string`+\"e\"+`pop_exponent`+\"_\"+`alpha`+\"_\"+`mut_rate`  #this allows us to\n",
      "#potentially loop over multiple files if we need to\n",
      "file_number=1\n",
      "\n",
      "error_message=\"Warning, a file you are trying to write to already exists.  If you would like to\" +'\\n' \\\n",
      "               + \"overwrite, then set the \\'can_overwrite\\' tag to \\'True\\'\" + '\\n' \\\n",
      "               +\"File was: \"\n",
      "can_overwrite=True\n",
      "#sets whether or not you are allowed to overwrite existing files\n",
      "\n",
      "#All the data\n",
      "file_name = `file_number`+ \"_\" +\"fitness\"+generic_file_name+\".csv\"\n",
      "if (((os.path.isfile(file_name)==False) or (can_overwrite==True))): #Checks if the file already exists\n",
      "    with open(file_name, 'wb') as csvfile:\n",
      "        outwriter = csv.writer(csvfile, delimiter=',',\n",
      "                                quotechar=' ', quoting=csv.QUOTE_MINIMAL)\n",
      "        for i in xrange(num_gens):\n",
      "            outwriter.writerow(fitness_trajectories[i].tolist())\n",
      "else:\n",
      "    print (error_message+file_name)\n",
      "        \n",
      "file_name=`file_number`+ \"_\"+\"fixation\"+generic_file_name+\".csv\"\n",
      "if (((os.path.isfile(file_name)==False) or (can_overwrite==True)) ):\n",
      "    with open(file_name,'wb') as csvfile:\n",
      "        outwriter = csv.writer(csvfile, delimiter=',',\n",
      "                                quotechar=' ', quoting=csv.QUOTE_MINIMAL)\n",
      "        for i in xrange(num_gens):\n",
      "            outwriter.writerow(fixation_trajectories[i].tolist())\n",
      "else:\n",
      "    print (error_message+file_name)\n",
      "\n",
      "file_name = `file_number`+ \"_\"+\"pop_size\"+generic_file_name+\".csv\"#this could get the axe\n",
      "if (((os.path.isfile(file_name)==False) or (can_overwrite==True))):\n",
      "    with open(file_name,'wb') as csvfile:\n",
      "        outwriter = csv.writer(csvfile, delimiter=',',\n",
      "                                quotechar=' ', quoting=csv.QUOTE_MINIMAL)\n",
      "        for i in xrange(num_gens):\n",
      "            outwriter.writerow(pop_size_trajectories[i].tolist())\n",
      "else:\n",
      "    print (error_message+file_name)        \n",
      "\n",
      "#means\n",
      "file_name=`file_number`+ \"_\"+\"mean_data\"+generic_file_name+\".csv\"\n",
      "if (((os.path.isfile(file_name)==False) or (can_overwrite==True))):\n",
      "    with open(file_name,'wb') as csvfile:\n",
      "        outwriter = csv.writer(csvfile, delimiter=',',\n",
      "                                quotechar=' ', quoting=csv.QUOTE_MINIMAL)\n",
      "        for i in xrange(num_gens):\n",
      "            outwriter.writerow([mean_fitness_trajectory[i],mean_fixation_trajectory[i],fitness_stand_devs[i],fixation_stand_devs[i]])\n",
      "else:\n",
      "    print (error_message+file_name)            \n",
      "#rates\n",
      "file_name=`file_number`+ \"_\"+\"rates\"+generic_file_name+\".csv\"\n",
      "if (((os.path.isfile(file_name)==False) or (can_overwrite==True))):\n",
      "    with open(file_name,'wb') as csvfile:\n",
      "        outwriter = csv.writer(csvfile, delimiter=',',\n",
      "                                quotechar=' ', quoting=csv.QUOTE_MINIMAL)\n",
      "        outwriter.writerow([\"adaptation rate: \",adaptation_rate])\n",
      "        outwriter.writerow([\"fixation rate: \",fixation_rate])\n",
      "else:\n",
      "    print (error_message+file_name)\n",
      "    \n",
      "#mutation tracker\n",
      "#concatenates the fixed mutation effect sizes of all the runs\n",
      "if (mutation_tracker_toggle==True):\n",
      "    file_name =`file_number`+\"_\"+\"mutation_tracker\"+generic_file_name+\".csv\"\n",
      "    if (((os.path.isfile(file_name)==False) or (can_overwrite==True))):\n",
      "        with open(file_name,'wb') as csvfile:\n",
      "            outwriter = csv.writer(csvfile, delimiter=',',\n",
      "                                    quotechar=' ', quoting=csv.QUOTE_MINIMAL)\n",
      "            outwriter.writerow([\"Fixed Mutations\",\"Fixed Mutations w/ Background\"])\n",
      "            for i in xrange(len(fixed_muts_trajectory)):\n",
      "                outwriter.writerow([fixed_muts_trajectory[i],fixed_mut_back_trajectory[i]])\n",
      "    else:\n",
      "        print (error_message+file_name)\n",
      "                \n",
      "        \n",
      "        \n",
      "        \n",
      "        \n",
      "        "
     ],
     "language": "python",
     "metadata": {},
     "outputs": [],
     "prompt_number": 13
    },
    {
     "cell_type": "code",
     "collapsed": false,
     "input": [
      "a = [1,2,4,5]\n",
      "a\n",
      "a.append(3)\n",
      "a"
     ],
     "language": "python",
     "metadata": {},
     "outputs": [
      {
       "metadata": {},
       "output_type": "pyout",
       "prompt_number": 199,
       "text": [
        "[1, 2, 4, 5, 3]"
       ]
      }
     ],
     "prompt_number": 199
    },
    {
     "cell_type": "code",
     "collapsed": false,
     "input": [],
     "language": "python",
     "metadata": {},
     "outputs": []
    }
   ],
   "metadata": {}
  }
 ]
}